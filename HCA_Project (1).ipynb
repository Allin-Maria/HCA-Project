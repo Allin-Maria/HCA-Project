{
  "nbformat": 4,
  "nbformat_minor": 0,
  "metadata": {
    "colab": {
      "provenance": []
    },
    "kernelspec": {
      "name": "python3",
      "display_name": "Python 3"
    },
    "language_info": {
      "name": "python"
    }
  },
  "cells": [
    {
      "cell_type": "code",
      "source": [
        "# 1. Setup\n",
        "# ==============================\n",
        "import os\n",
        "import pandas as pd\n",
        "import matplotlib.pyplot as plt\n",
        "import seaborn as sns\n",
        "import yaml\n",
        "from graphviz import Digraph"
      ],
      "metadata": {
        "id": "y0Tv3xRR0CZ1"
      },
      "execution_count": 56,
      "outputs": []
    },
    {
      "cell_type": "code",
      "source": [
        "# Make directories\n",
        "os.makedirs(\"data/raw\", exist_ok=True)\n",
        "os.makedirs(\"data/interim\", exist_ok=True)\n",
        "os.makedirs(\"configs\", exist_ok=True)\n"
      ],
      "metadata": {
        "id": "HKEW_Yps0CxH"
      },
      "execution_count": 57,
      "outputs": []
    },
    {
      "cell_type": "code",
      "source": [
        "# 2. Load raw dataset\n",
        "# ==============================\n",
        "# If using uploaded file in Colab:\n",
        "# from google.colab import files\n",
        "# uploaded = files.upload()\n",
        "# df = pd.read_csv(\"diabetic_data.csv\")\n",
        "\n",
        "# If already available in your workspace:\n",
        "df = pd.read_csv(\"/content/diabetic_data.csv\")\n",
        "\n",
        "# Save raw copy\n",
        "df.to_csv(\"data/raw/diabetic_data.csv\", index=False)\n",
        "\n",
        "print(f\"Raw dataset shape: {df.shape}\")\n",
        "print(\"Columns:\", df.columns.tolist()[:10], \"...\")"
      ],
      "metadata": {
        "colab": {
          "base_uri": "https://localhost:8080/"
        },
        "id": "D0UlLD-S0GH_",
        "outputId": "6aef8508-d017-4d01-da7f-0d4d033ab2e2"
      },
      "execution_count": 59,
      "outputs": [
        {
          "output_type": "stream",
          "name": "stdout",
          "text": [
            "Raw dataset shape: (33243, 50)\n",
            "Columns: ['encounter_id', 'patient_nbr', 'race', 'gender', 'age', 'weight', 'admission_type_id', 'discharge_disposition_id', 'admission_source_id', 'time_in_hospital'] ...\n"
          ]
        }
      ]
    },
    {
      "cell_type": "code",
      "source": [
        "# 3. Inspect outcome variable\n",
        "# ==============================\n",
        "print(\"\\nOutcome distribution (readmitted):\")\n",
        "print(df[\"readmitted\"].value_counts(dropna=False))\n",
        "\n",
        "sns.countplot(x=\"readmitted\", data=df)\n",
        "plt.title(\"Outcome Distribution - Readmitted\")\n",
        "plt.show()"
      ],
      "metadata": {
        "colab": {
          "base_uri": "https://localhost:8080/",
          "height": 611
        },
        "id": "8Zbb4Zn60IlZ",
        "outputId": "ca42f415-03d3-4639-8b13-1be92801811a"
      },
      "execution_count": 60,
      "outputs": [
        {
          "output_type": "stream",
          "name": "stdout",
          "text": [
            "\n",
            "Outcome distribution (readmitted):\n",
            "readmitted\n",
            "NO     18608\n",
            ">30    10846\n",
            "<30     3788\n",
            "NaN        1\n",
            "Name: count, dtype: int64\n"
          ]
        },
        {
          "output_type": "display_data",
          "data": {
            "text/plain": [
              "<Figure size 640x480 with 1 Axes>"
            ],
            "image/png": "[encoded data removed]"
          },
          "metadata": {}
        }
      ]
    },
    {
      "cell_type": "code",
      "source": [
        "# 4. Define cohort rules\n",
        "# ==============================\n",
        "initial_n = df.shape[0]\n",
        "\n",
        "# Age filter: parse age range like [70-80)\n",
        "df = df[df[\"age\"].notna()]\n",
        "df[\"age_min\"] = df[\"age\"].str.extract(r\"\\[(\\d+)-\").astype(int)\n",
        "df = df[df[\"age_min\"] >= 18]\n",
        "after_age_n = df.shape[0]\n",
        "\n",
        "# Drop missing outcome\n",
        "df = df[df[\"readmitted\"].notna()]\n",
        "after_outcome_n = df.shape[0]"
      ],
      "metadata": {
        "id": "aZIKWJ090hGA"
      },
      "execution_count": 61,
      "outputs": []
    },
    {
      "cell_type": "code",
      "source": [
        "# 5. Encode outcome variable\n",
        "# ==============================\n",
        "# readmitted column has values: '<30', '>30', 'NO'\n",
        "# Encode binary: 1 = readmitted (<30 or >30), 0 = NO\n",
        "df[\"y\"] = df[\"readmitted\"].apply(lambda x: 0 if x == \"NO\" else 1)\n",
        "\n",
        "print(\"\\nEncoded outcome distribution:\")\n",
        "print(df[\"y\"].value_counts())\n"
      ],
      "metadata": {
        "colab": {
          "base_uri": "https://localhost:8080/"
        },
        "id": "ZhM_m1qe0kn0",
        "outputId": "516f56de-2308-485f-9949-b45b98a67b07"
      },
      "execution_count": 62,
      "outputs": [
        {
          "output_type": "stream",
          "name": "stdout",
          "text": [
            "\n",
            "Encoded outcome distribution:\n",
            "y\n",
            "0    18246\n",
            "1    14467\n",
            "Name: count, dtype: int64\n"
          ]
        }
      ]
    },
    {
      "cell_type": "code",
      "source": [
        "# 6. Write cohort config\n",
        "# ==============================\n",
        "cohort_config = {\n",
        "    \"inclusion\": [\"Age >= 18 years\"],\n",
        "    \"exclusion\": [\"Missing outcome\"],\n",
        "    \"outcome\": {\n",
        "        \"variable\": \"readmitted\",\n",
        "        \"encoding\": {\"NO\": 0, \"<30\": 1, \">30\": 1}\n",
        "    }\n",
        "}\n",
        "\n",
        "with open(\"configs/cohort.yml\", \"w\") as f:\n",
        "    yaml.dump(cohort_config, f, default_flow_style=False)\n",
        "\n",
        "print(\"\\nCohort config saved to configs/cohort.yml\")\n"
      ],
      "metadata": {
        "colab": {
          "base_uri": "https://localhost:8080/"
        },
        "id": "fdt3pbBD0p4f",
        "outputId": "de15ec65-3029-4dcc-bb6b-8ef853387cb3"
      },
      "execution_count": 65,
      "outputs": [
        {
          "output_type": "stream",
          "name": "stdout",
          "text": [
            "\n",
            "Cohort config saved to configs/cohort.yml\n"
          ]
        }
      ]
    },
    {
      "cell_type": "code",
      "source": [
        "# 7. Cohort flow diagram\n",
        "# ==============================\n",
        "flow = Digraph(format=\"png\")\n",
        "flow.attr(rankdir=\"LR\")\n",
        "\n",
        "flow.node(\"N0\", f\"Initial cohort\\nn={initial_n}\")\n",
        "flow.node(\"N1\", f\"Age >= 18\\nn={after_age_n}\")\n",
        "flow.node(\"N2\", f\"Outcome not missing\\nn={after_outcome_n}\")\n",
        "\n",
        "flow.edges([(\"N0\", \"N1\"), (\"N1\", \"N2\")])\n",
        "\n",
        "flow.render(\"cohort_flow\", cleanup=True)\n",
        "print(\"Cohort flow diagram saved as cohort_flow.png\")\n",
        "\n",
        "# Display in Colab\n",
        "from IPython.display import Image\n",
        "Image(\"cohort_flow.png\")"
      ],
      "metadata": {
        "colab": {
          "base_uri": "https://localhost:8080/",
          "height": 116
        },
        "id": "ZHu9mALc0vCP",
        "outputId": "03547806-89a3-4895-d686-258e7760b062"
      },
      "execution_count": 66,
      "outputs": [
        {
          "output_type": "stream",
          "name": "stdout",
          "text": [
            "Cohort flow diagram saved as cohort_flow.png\n"
          ]
        },
        {
          "output_type": "execute_result",
          "data": {
            "image/png": "[encoded data removed]",
            "text/plain": [
              "<IPython.core.display.Image object>"
            ]
          },
          "metadata": {},
          "execution_count": 66
        }
      ]
    },
    {
      "cell_type": "code",
      "source": [
        "# 8. Save cleaned dataset\n",
        "# ==============================\n",
        "df.to_csv(\"data/interim/cohort.csv\", index=False)\n",
        "print(\"\\nCleaned cohort saved to data/interim/cohort.csv\")"
      ],
      "metadata": {
        "colab": {
          "base_uri": "https://localhost:8080/"
        },
        "id": "fg2YvNQg0yLC",
        "outputId": "5c7bf242-b659-4824-b150-ba689095d527"
      },
      "execution_count": 68,
      "outputs": [
        {
          "output_type": "stream",
          "name": "stdout",
          "text": [
            "\n",
            "Cleaned cohort saved to data/interim/cohort.csv\n"
          ]
        }
      ]
    },
    {
      "cell_type": "code",
      "source": [
        "import os\n",
        "print(os.path.exists(\"data/interim/cohort.csv\"))\n"
      ],
      "metadata": {
        "colab": {
          "base_uri": "https://localhost:8080/"
        },
        "id": "rgfL3VFq2OFJ",
        "outputId": "c79c2aa6-7477-4e5b-eb09-e4992543e3bf"
      },
      "execution_count": 70,
      "outputs": [
        {
          "output_type": "stream",
          "name": "stdout",
          "text": [
            "True\n"
          ]
        }
      ]
    }
  ]
}